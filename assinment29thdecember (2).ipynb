{
 "cells": [
  {
   "cell_type": "code",
   "execution_count": null,
   "id": "6c619b71-f6ec-47af-8cfa-6d57e59ef518",
   "metadata": {},
   "outputs": [],
   "source": [
    "1.who was the founder of the python programming language?\n",
    "\n",
    "Guido van Rossum"
   ]
  },
  {
   "cell_type": "code",
   "execution_count": null,
   "id": "43f17e2c-f3dc-449b-913a-8f6e47155864",
   "metadata": {},
   "outputs": [],
   "source": [
    "2.type of the programming language does the python support?\n",
    "ans : python is both procedural as well as object oriented programming language."
   ]
  },
  {
   "cell_type": "code",
   "execution_count": null,
   "id": "0b211619-ff3c-4939-b491-7560c34126a4",
   "metadata": {},
   "outputs": [],
   "source": [
    "3.is python case sensitive in dealing with the identifiers\n",
    "ans: yes the python is case  sensitive in dealing with the identifiers"
   ]
  },
  {
   "cell_type": "code",
   "execution_count": null,
   "id": "f1ed3d25-a873-495b-b7c2-73cabc1cd686",
   "metadata": {},
   "outputs": [],
   "source": [
    "4.what is the corrct syntax of the file\n",
    "ans:the extension of the pythin file is .py"
   ]
  },
  {
   "cell_type": "code",
   "execution_count": null,
   "id": "681e355c-6f49-48f9-bf62-af860f2db847",
   "metadata": {},
   "outputs": [],
   "source": [
    "5.name a few blocks of code for the used to define in the python lanuage \n",
    "ans:function and the class and the moudle consist of the some code of line as the block"
   ]
  },
  {
   "cell_type": "code",
   "execution_count": null,
   "id": "bcf10264-87ca-4054-a9e8-a80e8928e1f6",
   "metadata": {},
   "outputs": [],
   "source": [
    "6.state a character to define the single line comment\n",
    "ans: #is used for the single lien comment"
   ]
  },
  {
   "cell_type": "code",
   "execution_count": null,
   "id": "1bd45b51-59d3-4997-9ea0-28494770d2cd",
   "metadata": {},
   "outputs": [],
   "source": [
    "7.mention the name of functiona that is used for the version of the python\n",
    "ans:python --version"
   ]
  },
  {
   "cell_type": "code",
   "execution_count": null,
   "id": "8ea3afad-63be-4aac-9887-269770d9ccb6",
   "metadata": {},
   "outputs": [],
   "source": [
    "8.python supports the cretion annonaymas function at the runtime using a construct called\n",
    "ans: __init__ function"
   ]
  },
  {
   "cell_type": "code",
   "execution_count": null,
   "id": "4ad7a5eb-1db5-4eb5-b391-2bcec9bad909",
   "metadata": {},
   "outputs": [],
   "source": [
    "9.what does pip stand for in the python\n",
    "ans: preferred installer program is used to download module "
   ]
  },
  {
   "cell_type": "code",
   "execution_count": null,
   "id": "e63fa105-ae6e-4655-b372-d82245fba6dd",
   "metadata": {},
   "outputs": [],
   "source": [
    "10.mention some inbuilt function of the python\n",
    "ans: print(),set(),append(),sort(),type(),remove(),"
   ]
  },
  {
   "cell_type": "code",
   "execution_count": null,
   "id": "3829ab59-b157-4d14-b90d-55946a95cfab",
   "metadata": {},
   "outputs": [],
   "source": [
    "11.what id the maximum possible length of the identifier of the python \n",
    "ans:the length of the identifier id the 79 character long "
   ]
  },
  {
   "cell_type": "code",
   "execution_count": null,
   "id": "fa234021-638d-40c8-b586-91860d46b4a8",
   "metadata": {},
   "outputs": [],
   "source": [
    "12.what are the benefits of using the python\n",
    "ans:python type of variable is auto assingned,type conversion, garbage collection, easy for the statistics and \n",
    "the mathematics"
   ]
  },
  {
   "cell_type": "code",
   "execution_count": null,
   "id": "1d7f8ca3-af02-4843-bed7-38dff3d3ef4d",
   "metadata": {},
   "outputs": [],
   "source": [
    "13.how is memoray managed in python\n",
    "ans: efficient memory management using garbage collection"
   ]
  },
  {
   "cell_type": "code",
   "execution_count": null,
   "id": "dc418d9f-0c2a-4ed0-b8eb-c403f6ca62af",
   "metadata": {},
   "outputs": [],
   "source": [
    "14.how to install python windows and set the path variable \n",
    "ans: go the official website of pyhon and download and click the new path and copy the link from run script file and paste it"
   ]
  },
  {
   "cell_type": "code",
   "execution_count": null,
   "id": "cf8bafbd-94b1-43c2-9914-713263b41c5e",
   "metadata": {},
   "outputs": [],
   "source": [
    "15.is identation required in python \n",
    "ans:identation is the method to distinguish one block of code from another block of code"
   ]
  }
 ],
 "metadata": {
  "kernelspec": {
   "display_name": "Python 3 (ipykernel)",
   "language": "python",
   "name": "python3"
  },
  "language_info": {
   "codemirror_mode": {
    "name": "ipython",
    "version": 3
   },
   "file_extension": ".py",
   "mimetype": "text/x-python",
   "name": "python",
   "nbconvert_exporter": "python",
   "pygments_lexer": "ipython3",
   "version": "3.10.8"
  }
 },
 "nbformat": 4,
 "nbformat_minor": 5
}
